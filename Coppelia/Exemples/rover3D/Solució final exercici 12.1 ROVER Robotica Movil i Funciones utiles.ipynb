{
 "cells": [
  {
   "cell_type": "markdown",
   "metadata": {},
   "source": [
    "<h3>SESIÓN 10.1 - Robot Móvil de 4 ejes Con Ultrasonido </h3>\n"
   ]
  },
  {
   "cell_type": "markdown",
   "metadata": {},
   "source": []
  },
  {
   "cell_type": "code",
   "execution_count": null,
   "metadata": {},
   "outputs": [],
   "source": []
  },
  {
   "cell_type": "code",
   "execution_count": 1,
   "metadata": {},
   "outputs": [],
   "source": []
  },
  {
   "cell_type": "markdown",
   "metadata": {},
   "source": [
    "### COMUNICACIÓN CON COPPELIA Y EXTRACCIÓN DE CONTROLADORES"
   ]
  },
  {
   "cell_type": "code",
   "execution_count": 78,
   "metadata": {},
   "outputs": [
    {
     "name": "stdout",
     "output_type": "stream",
     "text": [
      "conectado a 19999\n",
      "16 18 40 38 20 22 42\n"
     ]
    }
   ],
   "source": [
    "# importamos las librerías necesarias y establecemos conexión\n",
    "import sim          # librería para conectar con CoppeliaSim\n",
    "import sys\n",
    "import time\n",
    "\n",
    "def connect(port):\n",
    "# Establece la conexión a VREP\n",
    "# port debe coincidir con el puerto de conexión en VREP\n",
    "# retorna el número de cliente o -1 si no puede establecer conexión\n",
    "    sim.simxFinish(-1) # just in case, close all opened connections\n",
    "    clientID=sim.simxStart('127.0.0.1',port,True,True,2000,5) # Conectarse\n",
    "    if clientID == 0: print(\"conectado a\", port)\n",
    "    else: print(\"no se pudo conectar\")\n",
    "    return clientID\n",
    "\n",
    "clientID = connect(19999)\n",
    "# Controladores\n",
    "retCode,jad=sim.simxGetObjectHandle(clientID,'Jad',sim.simx_opmode_blocking)\n",
    "retCode,jai=sim.simxGetObjectHandle(clientID,'Jai',sim.simx_opmode_blocking)\n",
    "retCode,jim=sim.simxGetObjectHandle(clientID,'Jim',sim.simx_opmode_blocking)\n",
    "retCode,jdd=sim.simxGetObjectHandle(clientID,'Jdd',sim.simx_opmode_blocking)\n",
    "retCode,jdi=sim.simxGetObjectHandle(clientID,'Jdi',sim.simx_opmode_blocking)\n",
    "retCode,jdm=sim.simxGetObjectHandle(clientID,'Jdm',sim.simx_opmode_blocking)\n",
    "retCode,psensor=sim.simxGetObjectHandle(clientID,'Psensor',sim.simx_opmode_blocking)\n",
    "\n",
    "\n",
    "print( jad,jai,jim,jdm,jdd,jdi,psensor )"
   ]
  },
  {
   "cell_type": "code",
   "execution_count": 79,
   "metadata": {},
   "outputs": [
    {
     "name": "stdout",
     "output_type": "stream",
     "text": [
      "No ha detectado objeto\n"
     ]
    }
   ],
   "source": [
    "import numpy as np #do this at the top of the program.\n",
    "# La instrucción ReadPorximitySensor nos puede dar si ha detectado un objeto, que objeto el vector a objeto (te da el controlador)\n",
    "errorCode, detectionState, detectedPoint, detectedObjectHandle, detectedSurfaceNormalVector=sim.simxReadProximitySensor(clientID,psensor, sim.simx_opmode_blocking)\n",
    "# podemos calcular la distancia con  #simx_opmode_buffer\n",
    "if detectionState==True:\n",
    "    sensor_val=np.linalg.norm(detectedPoint)\n",
    "    print(\"distacia al objeto: \",sensor_val)\n",
    "else:\n",
    "    print(\"No ha detectado objeto\")\n"
   ]
  },
  {
   "cell_type": "code",
   "execution_count": 80,
   "metadata": {},
   "outputs": [],
   "source": [
    "import time\n",
    "\n",
    "velocidad = 0.6\n",
    "time.sleep(3)\n",
    "#Avanzar hacia delante durante 2 segundos:\n",
    "sim.simxSetJointTargetVelocity(clientID, jai,velocidad,sim.simx_opmode_streaming)\n",
    "sim.simxSetJointTargetVelocity(clientID, jim,velocidad,sim.simx_opmode_streaming)\n",
    "sim.simxSetJointTargetVelocity(clientID, jdi,velocidad,sim.simx_opmode_streaming)\n",
    "sim.simxSetJointTargetVelocity(clientID, jad,velocidad,sim.simx_opmode_streaming)\n",
    "sim.simxSetJointTargetVelocity(clientID, jdd,velocidad,sim.simx_opmode_streaming)\n",
    "sim.simxSetJointTargetVelocity(clientID, jdm,velocidad,sim.simx_opmode_streaming)\n",
    "  \n",
    "time.sleep(3)\n",
    "#Avanzar hacia atras durante 2 segundos:\n",
    "sim.simxSetJointTargetVelocity(clientID, jai,-velocidad,sim.simx_opmode_streaming)\n",
    "sim.simxSetJointTargetVelocity(clientID, jim,-velocidad,sim.simx_opmode_streaming)\n",
    "sim.simxSetJointTargetVelocity(clientID, jdi,-velocidad,sim.simx_opmode_streaming)\n",
    "sim.simxSetJointTargetVelocity(clientID, jad,-velocidad,sim.simx_opmode_streaming)\n",
    "sim.simxSetJointTargetVelocity(clientID, jdd,-velocidad,sim.simx_opmode_streaming)\n",
    "sim.simxSetJointTargetVelocity(clientID, jdm,-velocidad,sim.simx_opmode_streaming)\n",
    "time.sleep(5)    \n",
    "    \n",
    "#Girar hacia la izquierda durante 3 segundos:\n",
    "sim.simxSetJointTargetVelocity(clientID, jai,velocidad,sim.simx_opmode_streaming)\n",
    "sim.simxSetJointTargetVelocity(clientID, jim,velocidad,sim.simx_opmode_streaming)\n",
    "sim.simxSetJointTargetVelocity(clientID, jdd,velocidad,sim.simx_opmode_streaming)\n",
    "sim.simxSetJointTargetVelocity(clientID, jdi,-velocidad,sim.simx_opmode_streaming)\n",
    "sim.simxSetJointTargetVelocity(clientID, jad,-velocidad,sim.simx_opmode_streaming)\n",
    "sim.simxSetJointTargetVelocity(clientID, jdm,-velocidad,sim.simx_opmode_streaming)\n",
    "time.sleep(3)\n",
    "  \n",
    "#Girar hacia la derecha durante 3 segundos:\n",
    "sim.simxSetJointTargetVelocity(clientID, jai,-velocidad,sim.simx_opmode_streaming)\n",
    "sim.simxSetJointTargetVelocity(clientID, jim,-velocidad,sim.simx_opmode_streaming)\n",
    "sim.simxSetJointTargetVelocity(clientID, jdd,-velocidad,sim.simx_opmode_streaming)\n",
    "sim.simxSetJointTargetVelocity(clientID, jdi,velocidad,sim.simx_opmode_streaming)\n",
    "sim.simxSetJointTargetVelocity(clientID, jad,velocidad,sim.simx_opmode_streaming)\n",
    "sim.simxSetJointTargetVelocity(clientID, jdm,velocidad,sim.simx_opmode_streaming)\n",
    "time.sleep(3)\n",
    "  \n",
    "#Parar:\n",
    "velocidad = 0.0\n",
    "sim.simxSetJointTargetVelocity(clientID, jai,velocidad,sim.simx_opmode_streaming)\n",
    "sim.simxSetJointTargetVelocity(clientID, jim,velocidad,sim.simx_opmode_streaming)\n",
    "sim.simxSetJointTargetVelocity(clientID, jdi,velocidad,sim.simx_opmode_streaming)\n",
    "sim.simxSetJointTargetVelocity(clientID, jad,velocidad,sim.simx_opmode_streaming)\n",
    "sim.simxSetJointTargetVelocity(clientID, jdd,velocidad,sim.simx_opmode_streaming)\n",
    "sim.simxSetJointTargetVelocity(clientID, jdm,velocidad,sim.simx_opmode_streaming)\n",
    "time.sleep(1)\n",
    " \n"
   ]
  },
  {
   "cell_type": "code",
   "execution_count": 81,
   "metadata": {},
   "outputs": [
    {
     "name": "stdout",
     "output_type": "stream",
     "text": [
      "0.23473450561447368 [3.079995033194033e-33, 1.0789998175301091e-43, -0.0]\n",
      "3.079995033194033e-33 [3.079995033194033e-33, 1.0789998175301091e-43, -0.0]\n",
      "3.079995033194033e-33 [3.079995033194033e-33, 1.0789998175301091e-43, -0.0]\n",
      "3.079995033194033e-33 [3.079995033194033e-33, 1.0789998175301091e-43, -0.0]\n",
      "3.079995033194033e-33 [3.079995033194033e-33, 1.0789998175301091e-43, -0.0]\n",
      "3.079995033194033e-33 [3.079995033194033e-33, 1.0789998175301091e-43, -0.0]\n",
      "3.079995033194033e-33 [3.079995033194033e-33, 1.0789998175301091e-43, -0.0]\n",
      "3.079995033194033e-33 [3.079995033194033e-33, 1.0789998175301091e-43, -1.165448975370964e-05]\n",
      "1.165448975370964e-05 [3.079995033194033e-33, 1.0789998175301091e-43, 1.5986164214609744e-07]\n",
      "1.5986164214609744e-07 [3.079995033194033e-33, 1.0789998175301091e-43, -3.6208041365171084e-06]\n",
      "3.6208041365171084e-06 [0.0, 0.0, 0.0]\n",
      "0.0 [3.079995033194033e-33, 1.0789998175301091e-43, -4.7620153509342344e-07]\n",
      "4.7620153509342344e-07 [3.079995033194033e-33, 1.0789998175301091e-43, 3.3028027246473357e-06]\n",
      "3.3028027246473357e-06 [3.079995033194033e-33, 1.0789998175301091e-43, 4.772271495312452e-06]\n",
      "4.772271495312452e-06 [3.079995033194033e-33, 1.0789998175301091e-43, 2.2428588636103086e-05]\n",
      "2.2428588636103086e-05 [0.06774123013019562, 0.02903527207672596, 0.7764672636985779]\n",
      "0.7799572634956857 [0.06218304857611656, 0.02766420505940914, 0.712832510471344]\n",
      "0.7160741775519261 [0.05691197142004967, 0.025868913158774376, 0.6524455547332764]\n",
      "0.6554337304794021 [0.0514349490404129, 0.02347852848470211, 0.5897919535636902]\n",
      "0.5924958597079569 [0.04625532403588295, 0.02111145481467247, 0.5303382873535156]\n",
      "0.5327700700669253 [0.04080931842327118, 0.018633956089615822, 0.4678613245487213]\n",
      "0.4700072805799987 [0.04079659283161163, 0.01865830458700657, 0.46775004267692566]\n",
      "0.4698963680866193 [0.04079640656709671, 0.018665075302124023, 0.4677439332008362]\n",
      "0.46989053924399254 [0.04079451411962509, 0.01866736263036728, 0.46773767471313477]\n",
      "0.46988423590910156 [0.04079762473702431, 0.01866193115711212, 0.4677485525608063]\n",
      "0.4698951183843318 [0.04079747945070267, 0.018657822161912918, 0.467752605676651]\n",
      "0.46989897720111357 [0.040799520909786224, 0.018652908504009247, 0.46775004267692566]\n",
      "0.46989640807990096 [0.04079700633883476, 0.018651405349373817, 0.4677529036998749]\n",
      "0.469898978044624 [0.04079756885766983, 0.018661269918084145, 0.4677503705024719]\n",
      "0.46989689690915354 [0.04079832136631012, 0.01866339147090912, 0.46775612235069275]\n",
      "0.46990277207531067 [0.04079834371805191, 0.018666759133338928, 0.46776261925697327]\n",
      "0.4699093750084398 [0.040796875953674316, 0.018676582723855972, 0.4677630662918091]\n",
      "0.46991008290580005 [0.04079810902476311, 0.01868434250354767, 0.4677675664424896]\n",
      "0.46991497802295606 [0.040798719972372055, 0.01869206875562668, 0.4677716791629791]\n",
      "0.4699194322569585 [0.040798019617795944, 0.0186997689306736, 0.4677671790122986]\n",
      "0.46991519822614636 [0.040797531604766846, 0.018709607422351837, 0.46775734424591064]\n",
      "0.46990575766947973 [0.040797159075737, 0.0187090914696455, 0.46775373816490173]\n",
      "0.46990211518944025 [0.04079737141728401, 0.018713532015681267, 0.46775057911872864]\n",
      "0.4698991658440859 [0.040797580033540726, 0.018713941797614098, 0.4677531123161316]\n",
      "0.4699017218904665 [0.04079841822385788, 0.018715068697929382, 0.4677557945251465]\n"
     ]
    }
   ],
   "source": [
    "import time\n",
    "\n",
    "velocidad = 0\n",
    "time.sleep(5)\n",
    "t = time.time()\n",
    "while (time.time()-t)<10: #run for 20 seconds\n",
    "    errorCode, detectionState, detectedPoint, detectedObjectHandle, detectedSurfaceNormalVector=sim.simxReadProximitySensor(clientID,psensor, sim.simx_opmode_blocking)\n",
    "    print (sensor_val,detectedPoint)\n",
    "    sensor_val = np.linalg.norm(detectedPoint)\n",
    "    if sensor_val < 0.55 and sensor_val>0.1:\n",
    "        velocidad = 0\n",
    "    else:\n",
    "        velocidad = 0.6\n",
    "    time.sleep(0.2)\n",
    "    sim.simxSetJointTargetVelocity(clientID, jai,velocidad,sim.simx_opmode_streaming)\n",
    "    sim.simxSetJointTargetVelocity(clientID, jim,velocidad,sim.simx_opmode_streaming)\n",
    "    sim.simxSetJointTargetVelocity(clientID, jdi,velocidad,sim.simx_opmode_streaming)\n",
    "    sim.simxSetJointTargetVelocity(clientID, jad,velocidad,sim.simx_opmode_streaming)\n",
    "    sim.simxSetJointTargetVelocity(clientID, jdd,velocidad,sim.simx_opmode_streaming)\n",
    "    sim.simxSetJointTargetVelocity(clientID, jdm,velocidad,sim.simx_opmode_streaming)\n",
    "\n",
    "#Cerrar la conexión:\n",
    "sim.simxFinish(-1)"
   ]
  },
  {
   "cell_type": "markdown",
   "metadata": {},
   "source": [
    "<h3> FUNCIONES </h3>\n"
   ]
  },
  {
   "cell_type": "markdown",
   "metadata": {},
   "source": [
    "https://www.coppeliarobotics.com/helpFiles/en/b0RemoteApi-cpp.htm#simxReadProximitySensor\n",
    "\n"
   ]
  },
  {
   "cell_type": "markdown",
   "metadata": {},
   "source": [
    "## FUNCIONES PARA SACAR PROPIEDADES DE LOS OBJETOS DEL COPPELIA: TAMAÑOS- VELOCIDADES ETC"
   ]
  },
  {
   "cell_type": "markdown",
   "metadata": {
    "scrolled": true
   },
   "source": [
    "https://www.coppeliarobotics.com/helpFiles/en/b0RemoteApi-cpp.htm#simxGetObjectIntParameter"
   ]
  },
  {
   "cell_type": "markdown",
   "metadata": {},
   "source": [
    "### PARAMETROS POSIBLES\n",
    "https://www.coppeliarobotics.com/helpFiles/en/objectParameterIDs.htm\n"
   ]
  },
  {
   "cell_type": "markdown",
   "metadata": {},
   "source": [
    "### EJEMPLO: Para sacar la altura de un objeto"
   ]
  },
  {
   "cell_type": "markdown",
   "metadata": {},
   "source": [
    "\n",
    "error,zmax= sim.simxGetObjectFloatParameter(clientID,grip,20,sim.simx_opmode_blocking)\n",
    "\n",
    "error,zmin = sim.simxGetObjectFloatParameter(clientID,grip,17,sim.simx_opmode_blocking)\n",
    "\n",
    "print(zmax-zmin)\n"
   ]
  },
  {
   "cell_type": "code",
   "execution_count": null,
   "metadata": {},
   "outputs": [],
   "source": []
  }
 ],
 "metadata": {
  "kernelspec": {
   "display_name": "Python 3",
   "language": "python",
   "name": "python3"
  },
  "language_info": {
   "codemirror_mode": {
    "name": "ipython",
    "version": 3
   },
   "file_extension": ".py",
   "mimetype": "text/x-python",
   "name": "python",
   "nbconvert_exporter": "python",
   "pygments_lexer": "ipython3",
   "version": "3.8.5"
  }
 },
 "nbformat": 4,
 "nbformat_minor": 2
}
